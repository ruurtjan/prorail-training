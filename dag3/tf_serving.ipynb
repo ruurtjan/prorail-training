{
 "cells": [
  {
   "cell_type": "markdown",
   "metadata": {},
   "source": [
    "## Preprocess data in estimator"
   ]
  },
  {
   "cell_type": "code",
   "execution_count": null,
   "metadata": {},
   "outputs": [],
   "source": [
    "import os\n",
    "import os.path as op\n",
    "import tensorflow as tf\n",
    "\n",
    "HEIGHT, WIDTH, CHANNELS = 32, 32, 3\n",
    "# USE MEAN, STD FROM TRAINING SET\n",
    "mean,std = ...\n",
    "\n",
    "def serving_input_receiver_fn():\n",
    "\n",
    "    def normalize(image):\n",
    "        image = tf.subtract(image, mean)\n",
    "        image = tf.divide(image, std)\n",
    "        image = tf.reshape(image, [HEIGHT, WIDTH, CHANNELS])\n",
    "        print(image.shape)\n",
    "        return image\n",
    "\n",
    "    # Run preprocessing function on all images in batch\n",
    "    input_ph = tf.placeholder(tf.float32, shape=[None, HEIGHT, WIDTH, CHANNELS], name='image_binary')\n",
    "    images_tensor = tf.map_fn(\n",
    "        normalize, input_ph, back_prop=False)\n",
    "\n",
    "    return tf.estimator.export.ServingInputReceiver(\n",
    "        {'input_layer': images_tensor},  # The key here needs match the name of your model's first layer\n",
    "        {'image_bytes': input_ph})"
   ]
  },
  {
   "cell_type": "markdown",
   "metadata": {},
   "source": [
    "## Store estimator "
   ]
  },
  {
   "cell_type": "code",
   "execution_count": null,
   "metadata": {},
   "outputs": [],
   "source": [
    "version = '001'\n",
    "export_dir = '../../models/' + version\n",
    "\n",
    "# Define a path to your trained keras model and load it in as a `tf.keras.models.Model`\n",
    "# If you just trained your model, you may already have it in memory and can skip the below 2 lines\n",
    "# model_save_fpath = '/path/to/my_model.h5'\n",
    "# keras_model = tf.keras.models.load_model(model_save_fpath)\n",
    "\n",
    "# Create an Estimator object\n",
    "estimator_save_dir = '../../estimators/' + version\n",
    "estimator = tf.keras.estimator.model_to_estimator(keras_model_path='../models/model.h5',\n",
    "                                                  model_dir=estimator_save_dir)"
   ]
  },
  {
   "cell_type": "markdown",
   "metadata": {},
   "source": [
    "### Copy files to parent folder (tensorflow bug)"
   ]
  },
  {
   "cell_type": "code",
   "execution_count": null,
   "metadata": {},
   "outputs": [],
   "source": [
    "from os import listdir\n",
    "from os.path import join\n",
    "from shutil import copyfile\n",
    "current_path = estimator_save_dir + '/keras'\n",
    "new_path = estimator_save_dir\n",
    "onlyfiles = [f for f in listdir(current_path)]\n",
    "for file in onlyfiles:\n",
    "    copyfile(join(current_path, file), join(new_path,file))\n",
    "    "
   ]
  },
  {
   "cell_type": "markdown",
   "metadata": {},
   "source": [
    "## Save model in serving format"
   ]
  },
  {
   "cell_type": "code",
   "execution_count": null,
   "metadata": {},
   "outputs": [],
   "source": [
    "estimator.export_saved_model(export_dir, serving_input_receiver_fn=serving_input_receiver_fn)"
   ]
  }
 ],
 "metadata": {
  "kernelspec": {
   "display_name": "Python 3",
   "language": "python",
   "name": "python3"
  },
  "language_info": {
   "codemirror_mode": {
    "name": "ipython",
    "version": 3
   },
   "file_extension": ".py",
   "mimetype": "text/x-python",
   "name": "python",
   "nbconvert_exporter": "python",
   "pygments_lexer": "ipython3",
   "version": "3.7.1"
  }
 },
 "nbformat": 4,
 "nbformat_minor": 2
}
